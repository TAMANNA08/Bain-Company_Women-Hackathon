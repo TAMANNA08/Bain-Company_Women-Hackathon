{
 "cells": [
  {
   "cell_type": "markdown",
   "metadata": {
    "toc": true
   },
   "source": [
    "<h1>Table of Contents<span class=\"tocSkip\"></span></h1>\n",
    "<div class=\"toc\"><ul class=\"toc-item\"></ul></div>"
   ]
  },
  {
   "cell_type": "code",
   "execution_count": 1,
   "metadata": {},
   "outputs": [],
   "source": [
    "from math import sqrt\n",
    "import pandas as pd\n",
    "import numpy as np\n",
    "import matplotlib.pyplot as plt\n",
    "import seaborn as sns\n",
    "import scipy.stats as stats\n",
    "\n",
    "pd.pandas.set_option('display.max_columns', None)\n",
    "%matplotlib inline"
   ]
  },
  {
   "cell_type": "code",
   "execution_count": 2,
   "metadata": {},
   "outputs": [
    {
     "data": {
      "text/html": [
       "<div>\n",
       "<style scoped>\n",
       "    .dataframe tbody tr th:only-of-type {\n",
       "        vertical-align: middle;\n",
       "    }\n",
       "\n",
       "    .dataframe tbody tr th {\n",
       "        vertical-align: top;\n",
       "    }\n",
       "\n",
       "    .dataframe thead th {\n",
       "        text-align: right;\n",
       "    }\n",
       "</style>\n",
       "<table border=\"1\" class=\"dataframe\">\n",
       "  <thead>\n",
       "    <tr style=\"text-align: right;\">\n",
       "      <th></th>\n",
       "      <th>ID</th>\n",
       "      <th>Day_No</th>\n",
       "      <th>Course_ID</th>\n",
       "      <th>Course_Domain</th>\n",
       "      <th>Course_Type</th>\n",
       "      <th>Short_Promotion</th>\n",
       "      <th>Public_Holiday</th>\n",
       "      <th>Long_Promotion</th>\n",
       "      <th>User_Traffic</th>\n",
       "      <th>Competition_Metric</th>\n",
       "      <th>Sales</th>\n",
       "    </tr>\n",
       "  </thead>\n",
       "  <tbody>\n",
       "    <tr>\n",
       "      <th>0</th>\n",
       "      <td>1</td>\n",
       "      <td>1</td>\n",
       "      <td>1</td>\n",
       "      <td>Development</td>\n",
       "      <td>Course</td>\n",
       "      <td>0</td>\n",
       "      <td>1</td>\n",
       "      <td>1</td>\n",
       "      <td>11004</td>\n",
       "      <td>0.007</td>\n",
       "      <td>81</td>\n",
       "    </tr>\n",
       "    <tr>\n",
       "      <th>1</th>\n",
       "      <td>2</td>\n",
       "      <td>2</td>\n",
       "      <td>1</td>\n",
       "      <td>Development</td>\n",
       "      <td>Course</td>\n",
       "      <td>0</td>\n",
       "      <td>0</td>\n",
       "      <td>1</td>\n",
       "      <td>13650</td>\n",
       "      <td>0.007</td>\n",
       "      <td>79</td>\n",
       "    </tr>\n",
       "    <tr>\n",
       "      <th>2</th>\n",
       "      <td>3</td>\n",
       "      <td>3</td>\n",
       "      <td>1</td>\n",
       "      <td>Development</td>\n",
       "      <td>Course</td>\n",
       "      <td>0</td>\n",
       "      <td>0</td>\n",
       "      <td>1</td>\n",
       "      <td>11655</td>\n",
       "      <td>0.007</td>\n",
       "      <td>75</td>\n",
       "    </tr>\n",
       "    <tr>\n",
       "      <th>3</th>\n",
       "      <td>4</td>\n",
       "      <td>4</td>\n",
       "      <td>1</td>\n",
       "      <td>Development</td>\n",
       "      <td>Course</td>\n",
       "      <td>0</td>\n",
       "      <td>0</td>\n",
       "      <td>1</td>\n",
       "      <td>12054</td>\n",
       "      <td>0.007</td>\n",
       "      <td>80</td>\n",
       "    </tr>\n",
       "    <tr>\n",
       "      <th>4</th>\n",
       "      <td>5</td>\n",
       "      <td>5</td>\n",
       "      <td>1</td>\n",
       "      <td>Development</td>\n",
       "      <td>Course</td>\n",
       "      <td>0</td>\n",
       "      <td>0</td>\n",
       "      <td>1</td>\n",
       "      <td>6804</td>\n",
       "      <td>0.007</td>\n",
       "      <td>41</td>\n",
       "    </tr>\n",
       "  </tbody>\n",
       "</table>\n",
       "</div>"
      ],
      "text/plain": [
       "   ID  Day_No  Course_ID Course_Domain Course_Type  Short_Promotion  \\\n",
       "0   1       1          1   Development      Course                0   \n",
       "1   2       2          1   Development      Course                0   \n",
       "2   3       3          1   Development      Course                0   \n",
       "3   4       4          1   Development      Course                0   \n",
       "4   5       5          1   Development      Course                0   \n",
       "\n",
       "   Public_Holiday  Long_Promotion  User_Traffic  Competition_Metric  Sales  \n",
       "0               1               1         11004               0.007     81  \n",
       "1               0               1         13650               0.007     79  \n",
       "2               0               1         11655               0.007     75  \n",
       "3               0               1         12054               0.007     80  \n",
       "4               0               1          6804               0.007     41  "
      ]
     },
     "execution_count": 2,
     "metadata": {},
     "output_type": "execute_result"
    }
   ],
   "source": [
    "# reading the data set\n",
    "learn_df = pd.read_csv(r'C:\\Users\\Tamanna Kawatra\\OneDrive\\Desktop\\Bain Hackathon\\train.csv')\n",
    "learn_test_df = pd.read_csv(r'C:\\Users\\Tamanna Kawatra\\OneDrive\\Desktop\\Bain Hackathon\\test.csv')\n",
    "learn_df.head()\n",
    "learn_df.head()"
   ]
  },
  {
   "cell_type": "code",
   "execution_count": 3,
   "metadata": {},
   "outputs": [
    {
     "name": "stdout",
     "output_type": "stream",
     "text": [
      "<class 'pandas.core.frame.DataFrame'>\n",
      "RangeIndex: 512087 entries, 0 to 512086\n",
      "Data columns (total 11 columns):\n",
      "ID                    512087 non-null int64\n",
      "Day_No                512087 non-null int64\n",
      "Course_ID             512087 non-null int64\n",
      "Course_Domain         512087 non-null object\n",
      "Course_Type           512087 non-null object\n",
      "Short_Promotion       512087 non-null int64\n",
      "Public_Holiday        512087 non-null int64\n",
      "Long_Promotion        512087 non-null int64\n",
      "User_Traffic          512087 non-null int64\n",
      "Competition_Metric    510323 non-null float64\n",
      "Sales                 512087 non-null int64\n",
      "dtypes: float64(1), int64(8), object(2)\n",
      "memory usage: 43.0+ MB\n",
      "<class 'pandas.core.frame.DataFrame'>\n",
      "RangeIndex: 36000 entries, 0 to 35999\n",
      "Data columns (total 10 columns):\n",
      "ID                    36000 non-null int64\n",
      "Day_No                36000 non-null int64\n",
      "Course_ID             36000 non-null int64\n",
      "Course_Domain         36000 non-null object\n",
      "Course_Type           36000 non-null object\n",
      "Short_Promotion       36000 non-null int64\n",
      "Public_Holiday        36000 non-null int64\n",
      "Long_Promotion        36000 non-null int64\n",
      "User_Traffic          36000 non-null int64\n",
      "Competition_Metric    35880 non-null float64\n",
      "dtypes: float64(1), int64(7), object(2)\n",
      "memory usage: 2.7+ MB\n"
     ]
    }
   ],
   "source": [
    "learn_df.info()\n",
    "learn_test_df.info()\n",
    "##only null values in competion metric  column"
   ]
  },
  {
   "cell_type": "code",
   "execution_count": 4,
   "metadata": {},
   "outputs": [
    {
     "data": {
      "text/html": [
       "<div>\n",
       "<style scoped>\n",
       "    .dataframe tbody tr th:only-of-type {\n",
       "        vertical-align: middle;\n",
       "    }\n",
       "\n",
       "    .dataframe tbody tr th {\n",
       "        vertical-align: top;\n",
       "    }\n",
       "\n",
       "    .dataframe thead th {\n",
       "        text-align: right;\n",
       "    }\n",
       "</style>\n",
       "<table border=\"1\" class=\"dataframe\">\n",
       "  <thead>\n",
       "    <tr style=\"text-align: right;\">\n",
       "      <th></th>\n",
       "      <th>Day_No</th>\n",
       "      <th>Course_Domain</th>\n",
       "      <th>Course_Type</th>\n",
       "      <th>Short_Promotion</th>\n",
       "      <th>Public_Holiday</th>\n",
       "      <th>Long_Promotion</th>\n",
       "      <th>User_Traffic</th>\n",
       "      <th>Competition_Metric</th>\n",
       "      <th>Sales</th>\n",
       "    </tr>\n",
       "  </thead>\n",
       "  <tbody>\n",
       "    <tr>\n",
       "      <th>0</th>\n",
       "      <td>1</td>\n",
       "      <td>Development</td>\n",
       "      <td>Course</td>\n",
       "      <td>0</td>\n",
       "      <td>1</td>\n",
       "      <td>1</td>\n",
       "      <td>11004</td>\n",
       "      <td>0.007</td>\n",
       "      <td>81</td>\n",
       "    </tr>\n",
       "    <tr>\n",
       "      <th>1</th>\n",
       "      <td>2</td>\n",
       "      <td>Development</td>\n",
       "      <td>Course</td>\n",
       "      <td>0</td>\n",
       "      <td>0</td>\n",
       "      <td>1</td>\n",
       "      <td>13650</td>\n",
       "      <td>0.007</td>\n",
       "      <td>79</td>\n",
       "    </tr>\n",
       "    <tr>\n",
       "      <th>2</th>\n",
       "      <td>3</td>\n",
       "      <td>Development</td>\n",
       "      <td>Course</td>\n",
       "      <td>0</td>\n",
       "      <td>0</td>\n",
       "      <td>1</td>\n",
       "      <td>11655</td>\n",
       "      <td>0.007</td>\n",
       "      <td>75</td>\n",
       "    </tr>\n",
       "    <tr>\n",
       "      <th>3</th>\n",
       "      <td>4</td>\n",
       "      <td>Development</td>\n",
       "      <td>Course</td>\n",
       "      <td>0</td>\n",
       "      <td>0</td>\n",
       "      <td>1</td>\n",
       "      <td>12054</td>\n",
       "      <td>0.007</td>\n",
       "      <td>80</td>\n",
       "    </tr>\n",
       "    <tr>\n",
       "      <th>4</th>\n",
       "      <td>5</td>\n",
       "      <td>Development</td>\n",
       "      <td>Course</td>\n",
       "      <td>0</td>\n",
       "      <td>0</td>\n",
       "      <td>1</td>\n",
       "      <td>6804</td>\n",
       "      <td>0.007</td>\n",
       "      <td>41</td>\n",
       "    </tr>\n",
       "  </tbody>\n",
       "</table>\n",
       "</div>"
      ],
      "text/plain": [
       "   Day_No Course_Domain Course_Type  Short_Promotion  Public_Holiday  \\\n",
       "0       1   Development      Course                0               1   \n",
       "1       2   Development      Course                0               0   \n",
       "2       3   Development      Course                0               0   \n",
       "3       4   Development      Course                0               0   \n",
       "4       5   Development      Course                0               0   \n",
       "\n",
       "   Long_Promotion  User_Traffic  Competition_Metric  Sales  \n",
       "0               1         11004               0.007     81  \n",
       "1               1         13650               0.007     79  \n",
       "2               1         11655               0.007     75  \n",
       "3               1         12054               0.007     80  \n",
       "4               1          6804               0.007     41  "
      ]
     },
     "execution_count": 4,
     "metadata": {},
     "output_type": "execute_result"
    }
   ],
   "source": [
    "#dropping unwanted columns\n",
    "learn_df1 = learn_df.drop(columns = ['ID', 'Course_ID'])\n",
    "learn_test_df1 = learn_test_df.drop(columns = ['ID', 'Course_ID' ])\n",
    "\n",
    "learn_df1.head()\n",
    "learn_df1.head()"
   ]
  },
  {
   "cell_type": "code",
   "execution_count": 5,
   "metadata": {},
   "outputs": [
    {
     "name": "stdout",
     "output_type": "stream",
     "text": [
      "There are 2 categorical variables\n",
      "There are 3 discrete variables\n",
      "There are 3 continuous variables\n"
     ]
    }
   ],
   "source": [
    "#categorizing into discrete, categorical and continuous variables\n",
    "categorical = [var for var in learn_df1.columns if learn_df1[var].dtype=='O']\n",
    "numerical = [var for var in learn_df1.columns if learn_df1[var].dtype!='O']\n",
    "discrete  = [var for var in numerical if len(learn_df1[var].unique()) < 20 ]\n",
    "continuous = [var for var in numerical if var not in discrete and var not in ['Sales'] ]\n",
    "\n",
    "\n",
    "categorical1 = [var for var in learn_test_df1.columns if learn_test_df1[var].dtype=='O']\n",
    "numerical1 = [var for var in learn_test_df1.columns if learn_test_df1[var].dtype!='O']\n",
    "discrete1  = [var for var in numerical1 if len(learn_test_df1[var].unique()) < 20 ]\n",
    "continuous1 = [var for var in numerical1 if var not in discrete and var not in ['Sales'] ]\n",
    "\n",
    "\n",
    "print(f'There are {len(categorical)} categorical variables')\n",
    "print(f'There are {len(discrete)} discrete variables')\n",
    "print(f'There are {len(continuous)} continuous variables')"
   ]
  },
  {
   "cell_type": "code",
   "execution_count": 6,
   "metadata": {},
   "outputs": [
    {
     "name": "stdout",
     "output_type": "stream",
     "text": [
      "Competition_Metric 0.0034447271655011747\n",
      "Competition_Metric 0.0033333333333333335\n"
     ]
    }
   ],
   "source": [
    "# Output variables with NA and the percentage of NA\n",
    "\n",
    "for var in learn_df1.columns:\n",
    "    if learn_df1[var].isnull().sum() > 0:\n",
    "        print(var, learn_df1[var].isnull().mean())\n",
    "        \n",
    "for var in learn_test_df1.columns:\n",
    "    if learn_test_df1[var].isnull().sum() > 0:\n",
    "        print(var, learn_test_df1[var].isnull().mean())\n",
    "        \n",
    "        "
   ]
  },
  {
   "cell_type": "code",
   "execution_count": 7,
   "metadata": {},
   "outputs": [
    {
     "name": "stdout",
     "output_type": "stream",
     "text": [
      "Short_Promotion [0 1] \n",
      "\n",
      "Public_Holiday [1 0] \n",
      "\n",
      "Long_Promotion [1 0] \n",
      "\n"
     ]
    }
   ],
   "source": [
    "for var in discrete :\n",
    "    print(var, learn_df1[var].unique(), '\\n')"
   ]
  },
  {
   "cell_type": "code",
   "execution_count": 8,
   "metadata": {},
   "outputs": [
    {
     "name": "stdout",
     "output_type": "stream",
     "text": [
      "Day_No [ 1  2  3  4  5  6  7  8  9 10 11 12 13 14 15 16 17 18 19 20] \n",
      "\n",
      "User_Traffic [11004 13650 11655 12054  6804 10395 16023 14385 16485 13377 11319  7077\n",
      " 11802 11130 10773 12411  8463  9114  6363  8547] \n",
      "\n",
      "Competition_Metric [0.007 0.186 0.316 0.099 0.027 0.041 0.012 0.014 0.004 0.017 0.054 0.182\n",
      " 0.042 0.013 0.06  0.001 0.    0.129 0.029 0.101] \n",
      "\n"
     ]
    }
   ],
   "source": [
    "for var in continuous:\n",
    "    print(var, learn_df1[var].unique()[0:20], '\\n')"
   ]
  },
  {
   "cell_type": "code",
   "execution_count": 9,
   "metadata": {},
   "outputs": [
    {
     "name": "stdout",
     "output_type": "stream",
     "text": [
      "Course_Domain ['Development' 'Software Marketing' 'Finance & Accounting' 'Business'] \n",
      "\n",
      "Course_Type ['Course' 'Program' 'Degree'] \n",
      "\n"
     ]
    }
   ],
   "source": [
    "for var in categorical:\n",
    "    print(var, learn_df1[var].unique(), '\\n')"
   ]
  },
  {
   "cell_type": "code",
   "execution_count": 10,
   "metadata": {},
   "outputs": [],
   "source": [
    "#outliers in data\n",
    "def diagnostic_plots(df, variable):\n",
    "    # function takes a dataframe (df) and\n",
    "    # the variable of interest as arguments\n",
    "\n",
    "    # define figure size\n",
    "    plt.figure(figsize=(16, 4))\n",
    "\n",
    "    # histogram\n",
    "    plt.subplot(1, 2, 1)\n",
    "    sns.distplot(df[variable], bins=30)\n",
    "    plt.title('Histogram')\n",
    "\n",
    "    # boxplot\n",
    "    plt.subplot(1, 2, 2)\n",
    "    sns.boxplot(y=df[variable])\n",
    "    plt.title('Boxplot')\n",
    "\n",
    "    plt.show()"
   ]
  },
  {
   "cell_type": "code",
   "execution_count": 11,
   "metadata": {},
   "outputs": [
    {
     "data": {
      "image/png": "[encoded data removed]",
      "text/plain": [
       "<Figure size 1152x288 with 2 Axes>"
      ]
     },
     "metadata": {
      "needs_background": "light"
     },
     "output_type": "display_data"
    },
    {
     "data": {
      "image/png": "[encoded data removed]",
      "text/plain": [
       "<Figure size 1152x288 with 2 Axes>"
      ]
     },
     "metadata": {
      "needs_background": "light"
     },
     "output_type": "display_data"
    },
    {
     "name": "stderr",
     "output_type": "stream",
     "text": [
      "C:\\Users\\Tamanna Kawatra\\Anaconda3\\envs\\buan6341_2020\\lib\\site-packages\\numpy\\lib\\histograms.py:839: RuntimeWarning: invalid value encountered in greater_equal\n",
      "  keep = (tmp_a >= first_edge)\n",
      "C:\\Users\\Tamanna Kawatra\\Anaconda3\\envs\\buan6341_2020\\lib\\site-packages\\numpy\\lib\\histograms.py:840: RuntimeWarning: invalid value encountered in less_equal\n",
      "  keep &= (tmp_a <= last_edge)\n",
      "C:\\Users\\Tamanna Kawatra\\Anaconda3\\envs\\buan6341_2020\\lib\\site-packages\\statsmodels\\nonparametric\\kde.py:447: RuntimeWarning: invalid value encountered in greater\n",
      "  X = X[np.logical_and(X > clip[0], X < clip[1])] # won't work for two columns.\n",
      "C:\\Users\\Tamanna Kawatra\\Anaconda3\\envs\\buan6341_2020\\lib\\site-packages\\statsmodels\\nonparametric\\kde.py:447: RuntimeWarning: invalid value encountered in less\n",
      "  X = X[np.logical_and(X > clip[0], X < clip[1])] # won't work for two columns.\n"
     ]
    },
    {
     "data": {
      "image/png": "[encoded data removed]",
      "text/plain": [
       "<Figure size 1152x288 with 2 Axes>"
      ]
     },
     "metadata": {
      "needs_background": "light"
     },
     "output_type": "display_data"
    }
   ],
   "source": [
    "for var in continuous:\n",
    "    diagnostic_plots(learn_df1, var)"
   ]
  },
  {
   "cell_type": "code",
   "execution_count": 12,
   "metadata": {},
   "outputs": [
    {
     "data": {
      "image/png": "[encoded data removed]",
      "text/plain": [
       "<Figure size 432x288 with 1 Axes>"
      ]
     },
     "metadata": {
      "needs_background": "light"
     },
     "output_type": "display_data"
    },
    {
     "data": {
      "image/png": "[encoded data removed]",
      "text/plain": [
       "<Figure size 432x288 with 1 Axes>"
      ]
     },
     "metadata": {
      "needs_background": "light"
     },
     "output_type": "display_data"
    },
    {
     "data": {
      "image/png": "[encoded data removed]",
      "text/plain": [
       "<Figure size 432x288 with 1 Axes>"
      ]
     },
     "metadata": {
      "needs_background": "light"
     },
     "output_type": "display_data"
    }
   ],
   "source": [
    " #outliers in discrete variables\n",
    "\n",
    "for var in discrete:\n",
    "    freq_var = 100*(learn_df1[var].value_counts() / len(learn_df1))\n",
    "    # let's make plot with the category frequencies\n",
    "    fig = freq_var.sort_values(ascending=False).plot.bar()\n",
    "\n",
    "    # add a line to signal 5 % frequency limit\n",
    "    # under which we will consider a category as rare\n",
    "    fig.axhline(y=5, color='red')\n",
    "\n",
    "    # add axis labels and title\n",
    "    fig.set_ylabel('percentage of houses within each category')\n",
    "    fig.set_xlabel(var)\n",
    "    fig.set_title('Identifying Rare Categories')\n",
    "    plt.show()"
   ]
  },
  {
   "cell_type": "code",
   "execution_count": 13,
   "metadata": {},
   "outputs": [
    {
     "data": {
      "image/png": "[encoded data removed]",
      "text/plain": [
       "<Figure size 360x360 with 3 Axes>"
      ]
     },
     "metadata": {
      "needs_background": "light"
     },
     "output_type": "display_data"
    }
   ],
   "source": [
    "# let's plot the median sale price per value of the discrete\n",
    "# variable\n",
    "fig, axs = plt.subplots(ncols=3, nrows=1,figsize=(5,5))\n",
    "axs = axs.flatten()\n",
    "\n",
    "for i, var in enumerate(discrete):\n",
    "    if var != \"Sales\":\n",
    "        sns.regplot(x=var, y=\"Sales\", data=learn_df1, ax=axs[i],x_estimator=np.median);"
   ]
  },
  {
   "cell_type": "code",
   "execution_count": 14,
   "metadata": {},
   "outputs": [
    {
     "name": "stdout",
     "output_type": "stream",
     "text": [
      "                      Day_No  Short_Promotion  Public_Holiday  Long_Promotion  \\\n",
      "Day_No              1.000000         0.014645        0.019112       -0.020204   \n",
      "Short_Promotion     0.014645         1.000000       -0.018770       -0.001149   \n",
      "Public_Holiday      0.019112        -0.018770        1.000000        0.008319   \n",
      "Long_Promotion     -0.020204        -0.001149        0.008319        1.000000   \n",
      "User_Traffic        0.021511         0.198785       -0.108305       -0.204289   \n",
      "Competition_Metric  0.003229         0.000182       -0.000491       -0.119382   \n",
      "Sales               0.060012         0.367762       -0.135052       -0.109455   \n",
      "\n",
      "                    User_Traffic  Competition_Metric     Sales  \n",
      "Day_No                  0.021511            0.003229  0.060012  \n",
      "Short_Promotion         0.198785            0.000182  0.367762  \n",
      "Public_Holiday         -0.108305           -0.000491 -0.135052  \n",
      "Long_Promotion         -0.204289           -0.119382 -0.109455  \n",
      "User_Traffic            1.000000           -0.148775  0.829741  \n",
      "Competition_Metric     -0.148775            1.000000 -0.022085  \n",
      "Sales                   0.829741           -0.022085  1.000000  \n"
     ]
    }
   ],
   "source": [
    "corrmatrix = learn_df1.corr()\n",
    "print(corrmatrix)"
   ]
  },
  {
   "cell_type": "code",
   "execution_count": 182,
   "metadata": {
    "scrolled": true
   },
   "outputs": [
    {
     "data": {
      "text/plain": [
       "<matplotlib.axes._subplots.AxesSubplot at 0x26f37004b88>"
      ]
     },
     "execution_count": 182,
     "metadata": {},
     "output_type": "execute_result"
    },
    {
     "data": {
      "image/png": "[encoded data removed]",
      "text/plain": [
       "<Figure size 720x720 with 2 Axes>"
      ]
     },
     "metadata": {
      "needs_background": "light"
     },
     "output_type": "display_data"
    }
   ],
   "source": [
    "fig, ax = plt.subplots(figsize=(10,10))         \n",
    "sns.heatmap(corrmatrix, annot=True ,ax = ax)"
   ]
  },
  {
   "cell_type": "code",
   "execution_count": 15,
   "metadata": {},
   "outputs": [
    {
     "name": "stdout",
     "output_type": "stream",
     "text": [
      "['Day_No', 'Course_Domain', 'Course_Type', 'Short_Promotion', 'Public_Holiday', 'Long_Promotion', 'User_Traffic', 'Competition_Metric']\n"
     ]
    }
   ],
   "source": [
    "X_train= learn_df1.drop(['Sales' ], axis = 1)\n",
    "feature_list = list(X_train.columns)\n",
    "y_train= learn_df1['Sales']\n",
    "X_test = learn_test_df1\n",
    "print(feature_list)"
   ]
  },
  {
   "cell_type": "code",
   "execution_count": 16,
   "metadata": {},
   "outputs": [
    {
     "data": {
      "text/plain": [
       "Winsorizer(distribution='skewed', fold=1.5, tail='both',\n",
       "           variables=['User_Traffic', 'Competition_Metric'])"
      ]
     },
     "execution_count": 16,
     "metadata": {},
     "output_type": "execute_result"
    }
   ],
   "source": [
    "from feature_engine.outlier_removers import Winsorizer\n",
    "winsorizer = Winsorizer(distribution='skewed', # choose skewed for IQR rule boundaries or gaussian for mean and std\n",
    "                          tail='both', # cap left, right or both tails \n",
    "                          fold=1.5,\n",
    "                          variables=[ 'User_Traffic' , 'Competition_Metric'])\n",
    "\n",
    "winsorizer.fit(X_train)"
   ]
  },
  {
   "cell_type": "code",
   "execution_count": 17,
   "metadata": {},
   "outputs": [],
   "source": [
    "X_train_t = winsorizer.transform(X_train)\n",
    "X_test_t = winsorizer.transform(X_test)"
   ]
  },
  {
   "cell_type": "code",
   "execution_count": 18,
   "metadata": {},
   "outputs": [],
   "source": [
    "#data preprocessing\n",
    "\n",
    "\n",
    "# import relevant modules for feature engineering\n",
    "from sklearn.linear_model import BayesianRidge\n",
    "\n",
    "from sklearn.experimental import enable_iterative_imputer\n",
    "from sklearn.impute import IterativeImputer\n",
    "from sklearn.pipeline import Pipeline\n",
    "from sklearn.preprocessing import StandardScaler\n",
    "from feature_engine import missing_data_imputers as mdi\n",
    "from feature_engine import categorical_encoders as ce\n",
    "from feature_engine.variable_transformers import YeoJohnsonTransformer\n",
    "from sklearn.preprocessing import StandardScaler\n",
    "from feature_engine.discretisers import DecisionTreeDiscretiser\n",
    "from feature_engine.variable_transformers import LogTransformer\n",
    "X_train_t[discrete] = X_train_t[discrete].astype('O')\n",
    "X_test_t[discrete] = X_test_t[discrete1].astype('O')\n",
    "\n"
   ]
  },
  {
   "cell_type": "code",
   "execution_count": 19,
   "metadata": {},
   "outputs": [],
   "source": [
    "learn_preprocess = Pipeline([\n",
    "    \n",
    "    # missing data imputation \n",
    "    ('missing_ind', mdi.AddNaNBinaryImputer(\n",
    "        variables=['Competition_Metric'])),\n",
    "    ('imputer_num', mdi.MeanMedianImputer(imputation_method='median',\n",
    "                                          variables=['Competition_Metric'])),\n",
    "   ('imputer_cat', mdi.CategoricalVariableImputer(variables=categorical)),\n",
    "\n",
    "    # categorical encoding \n",
    "    ('rare_label_enc', ce.RareLabelCategoricalEncoder(\n",
    "        tol=0.05, n_categories=6, variables=categorical+discrete)),\n",
    "    ('onehotencoding_enc', ce. OneHotCategoricalEncoder(variables=categorical+discrete,\n",
    "   \n",
    "    drop_last=True)),\n",
    "    ( 'lt',LogTransformer(variables = ['User_Traffic'])),\n",
    "     # discretisation and encoding\n",
    "    ('treeDisc',  DecisionTreeDiscretiser(cv=2,\n",
    "                                   regression=True,\n",
    "                                   param_grid={'max_depth': [1,2,3,4,5,6]})),\n",
    "\n",
    "    # feature Scaling\n",
    "    ('scaler', StandardScaler()),\n",
    "    \n",
    "    \n",
    "\n",
    "])"
   ]
  },
  {
   "cell_type": "code",
   "execution_count": 20,
   "metadata": {},
   "outputs": [
    {
     "data": {
      "text/plain": [
       "Pipeline(memory=None,\n",
       "         steps=[('missing_ind',\n",
       "                 AddNaNBinaryImputer(variables=['Competition_Metric'])),\n",
       "                ('imputer_num',\n",
       "                 MeanMedianImputer(imputation_method='median',\n",
       "                                   variables=['Competition_Metric'])),\n",
       "                ('imputer_cat',\n",
       "                 CategoricalVariableImputer(variables=['Course_Domain',\n",
       "                                                       'Course_Type'])),\n",
       "                ('rare_label_enc',\n",
       "                 RareLabelCategoricalEncoder(n_categories=6, tol=0.05,\n",
       "                                             v...\n",
       "                                         variables=['Day_No', 'User_Traffic',\n",
       "                                                    'Competition_Metric',\n",
       "                                                    'Competition_Metric_na',\n",
       "                                                    'Course_Domain_Development',\n",
       "                                                    'Course_Domain_Software '\n",
       "                                                    'Marketing',\n",
       "                                                    'Course_Domain_Finance & '\n",
       "                                                    'Accounting',\n",
       "                                                    'Course_Type_Course',\n",
       "                                                    'Course_Type_Program',\n",
       "                                                    'Short_Promotion_0',\n",
       "                                                    'Public_Holiday_1',\n",
       "                                                    'Long_Promotion_1'])),\n",
       "                ('scaler',\n",
       "                 StandardScaler(copy=True, with_mean=True, with_std=True))],\n",
       "         verbose=False)"
      ]
     },
     "execution_count": 20,
     "metadata": {},
     "output_type": "execute_result"
    }
   ],
   "source": [
    "learn_preprocess.fit(X_train_t, y_train)"
   ]
  },
  {
   "cell_type": "code",
   "execution_count": 21,
   "metadata": {},
   "outputs": [],
   "source": [
    "# Apply Transformations\n",
    "X_train=learn_preprocess.transform(X_train_t)\n",
    "X_test=learn_preprocess.transform(X_test_t)\n"
   ]
  },
  {
   "cell_type": "code",
   "execution_count": 22,
   "metadata": {},
   "outputs": [
    {
     "data": {
      "text/plain": [
       "array([[-0.57593582, -0.55946244, -0.24777127, ..., -0.78328678,\n",
       "        -5.53230572, -1.0223135 ],\n",
       "       [-0.57593582, -0.13671665, -0.24777127, ..., -0.78328678,\n",
       "         0.18075646, -1.0223135 ],\n",
       "       [-0.57593582, -0.48720967, -0.24777127, ..., -0.78328678,\n",
       "         0.18075646, -1.0223135 ],\n",
       "       ...,\n",
       "       [ 0.18636065, -0.13671665, -0.24777127, ..., -0.78328678,\n",
       "         0.18075646, -1.0223135 ],\n",
       "       [ 0.18636065, -0.98067711, -0.24777127, ..., -0.78328678,\n",
       "         0.18075646, -1.0223135 ],\n",
       "       [ 0.18636065, -0.48720967, -0.24777127, ...,  1.27667161,\n",
       "         0.18075646, -1.0223135 ]])"
      ]
     },
     "execution_count": 22,
     "metadata": {},
     "output_type": "execute_result"
    }
   ],
   "source": [
    "X_train\n"
   ]
  },
  {
   "cell_type": "code",
   "execution_count": 23,
   "metadata": {},
   "outputs": [],
   "source": [
    "# Tuning the models\n",
    "\n",
    "from sklearn.model_selection import GridSearchCV\n",
    "from sklearn.linear_model import LinearRegression\n",
    "from sklearn.linear_model import ElasticNet\n",
    "from sklearn.model_selection import cross_val_score\n",
    "from sklearn.svm import SVR"
   ]
  },
  {
   "cell_type": "code",
   "execution_count": 24,
   "metadata": {},
   "outputs": [
    {
     "name": "stdout",
     "output_type": "stream",
     "text": [
      "Mean Cross-validation scores: [-20.39614429 -25.95103761 -27.45782344 -24.14358443 -21.92205796]\n",
      "Accuracy: -23.97 (+/- 5.14)\n",
      "\n",
      "lr.coef_: [ 4.12594110e+00  4.83856192e+01 -3.42282332e+00  1.21106698e-02\n",
      " -1.12271994e+01 -1.97813607e+01  5.77150993e+00 -2.18317262e+01\n",
      "  2.56552556e+01  8.12564207e+00  2.85259383e-02 -3.52000342e+00]\n",
      "lr.intercept_: 120.82692394065703\n",
      "LR Performance:  0.8097260159843876\n",
      "[140.0598846  140.0598846  140.0598846  ... 142.65428196 142.65428196\n",
      " 142.65428196]\n"
     ]
    }
   ],
   "source": [
    "lr = LinearRegression().fit(X_train, y_train)\n",
    "cv_scores = cross_val_score(lr, X_train, y_train, scoring = 'neg_root_mean_squared_error', cv=5)\n",
    "\n",
    "# Mean Cross validation Score\n",
    "print(\"Mean Cross-validation scores: {}\".format(cv_scores))\n",
    "print(\"Accuracy: %0.2f (+/- %0.2f)\" % (cv_scores.mean(), cv_scores.std() * 2))\n",
    "\n",
    "print()\n",
    "# Print Co-efficients\n",
    "print(\"lr.coef_:\", lr.coef_)\n",
    "print(\"lr.intercept_:\", lr.intercept_)\n",
    "\n",
    "# Check test data set performance\n",
    "print(\"LR Performance: \", lr.score(X_train,y_train))\n",
    "X_test_preds = lr.predict(X_test)\n",
    "print(X_test_preds)\n",
    "np.savetxt(\"output.csv\", X_test_preds, delimiter=\",\")"
   ]
  },
  {
   "cell_type": "code",
   "execution_count": 41,
   "metadata": {},
   "outputs": [
    {
     "name": "stderr",
     "output_type": "stream",
     "text": [
      "C:\\Users\\Tamanna Kawatra\\Anaconda3\\envs\\buan6341_2020\\lib\\site-packages\\sklearn\\linear_model\\_coordinate_descent.py:476: ConvergenceWarning: Objective did not converge. You might want to increase the number of iterations. Duality gap: 121560882.1473718, tolerance: 139782.19503265695\n",
      "  positive)\n",
      "C:\\Users\\Tamanna Kawatra\\Anaconda3\\envs\\buan6341_2020\\lib\\site-packages\\sklearn\\linear_model\\_coordinate_descent.py:476: ConvergenceWarning: Objective did not converge. You might want to increase the number of iterations. Duality gap: 98284068.31843293, tolerance: 140585.83960898532\n",
      "  positive)\n",
      "C:\\Users\\Tamanna Kawatra\\Anaconda3\\envs\\buan6341_2020\\lib\\site-packages\\sklearn\\linear_model\\_coordinate_descent.py:476: ConvergenceWarning: Objective did not converge. You might want to increase the number of iterations. Duality gap: 94527962.64654623, tolerance: 132345.24206595687\n",
      "  positive)\n",
      "C:\\Users\\Tamanna Kawatra\\Anaconda3\\envs\\buan6341_2020\\lib\\site-packages\\sklearn\\linear_model\\_coordinate_descent.py:476: ConvergenceWarning: Objective did not converge. You might want to increase the number of iterations. Duality gap: 69486606.2907021, tolerance: 132349.33562075841\n",
      "  positive)\n",
      "C:\\Users\\Tamanna Kawatra\\Anaconda3\\envs\\buan6341_2020\\lib\\site-packages\\sklearn\\linear_model\\_coordinate_descent.py:476: ConvergenceWarning: Objective did not converge. You might want to increase the number of iterations. Duality gap: 119828712.6661022, tolerance: 135678.04163773675\n",
      "  positive)\n",
      "C:\\Users\\Tamanna Kawatra\\Anaconda3\\envs\\buan6341_2020\\lib\\site-packages\\sklearn\\linear_model\\_coordinate_descent.py:476: ConvergenceWarning: Objective did not converge. You might want to increase the number of iterations. Duality gap: 91617838.07258803, tolerance: 131244.28472329865\n",
      "  positive)\n",
      "C:\\Users\\Tamanna Kawatra\\Anaconda3\\envs\\buan6341_2020\\lib\\site-packages\\sklearn\\linear_model\\_coordinate_descent.py:476: ConvergenceWarning: Objective did not converge. You might want to increase the number of iterations. Duality gap: 95292919.31013048, tolerance: 136790.55409947364\n",
      "  positive)\n",
      "C:\\Users\\Tamanna Kawatra\\Anaconda3\\envs\\buan6341_2020\\lib\\site-packages\\sklearn\\linear_model\\_coordinate_descent.py:476: ConvergenceWarning: Objective did not converge. You might want to increase the number of iterations. Duality gap: 123453845.90096077, tolerance: 133591.00960358817\n",
      "  positive)\n",
      "C:\\Users\\Tamanna Kawatra\\Anaconda3\\envs\\buan6341_2020\\lib\\site-packages\\sklearn\\linear_model\\_coordinate_descent.py:476: ConvergenceWarning: Objective did not converge. You might want to increase the number of iterations. Duality gap: 98880351.18845835, tolerance: 141261.06177376342\n",
      "  positive)\n",
      "C:\\Users\\Tamanna Kawatra\\Anaconda3\\envs\\buan6341_2020\\lib\\site-packages\\sklearn\\linear_model\\_coordinate_descent.py:476: ConvergenceWarning: Objective did not converge. You might want to increase the number of iterations. Duality gap: 124501590.98298828, tolerance: 137946.97931575522\n",
      "  positive)\n",
      "C:\\Users\\Tamanna Kawatra\\Anaconda3\\envs\\buan6341_2020\\lib\\site-packages\\sklearn\\linear_model\\_coordinate_descent.py:476: ConvergenceWarning: Objective did not converge. You might want to increase the number of iterations. Duality gap: 4110968.480791867, tolerance: 139782.19503265695\n",
      "  positive)\n",
      "C:\\Users\\Tamanna Kawatra\\Anaconda3\\envs\\buan6341_2020\\lib\\site-packages\\sklearn\\linear_model\\_coordinate_descent.py:476: ConvergenceWarning: Objective did not converge. You might want to increase the number of iterations. Duality gap: 428406.85563513637, tolerance: 140585.83960898532\n",
      "  positive)\n",
      "C:\\Users\\Tamanna Kawatra\\Anaconda3\\envs\\buan6341_2020\\lib\\site-packages\\sklearn\\linear_model\\_coordinate_descent.py:476: ConvergenceWarning: Objective did not converge. You might want to increase the number of iterations. Duality gap: 420281.1733136177, tolerance: 132345.24206595687\n",
      "  positive)\n",
      "C:\\Users\\Tamanna Kawatra\\Anaconda3\\envs\\buan6341_2020\\lib\\site-packages\\sklearn\\linear_model\\_coordinate_descent.py:476: ConvergenceWarning: Objective did not converge. You might want to increase the number of iterations. Duality gap: 9897915.802687198, tolerance: 135678.04163773675\n",
      "  positive)\n",
      "C:\\Users\\Tamanna Kawatra\\Anaconda3\\envs\\buan6341_2020\\lib\\site-packages\\sklearn\\linear_model\\_coordinate_descent.py:476: ConvergenceWarning: Objective did not converge. You might want to increase the number of iterations. Duality gap: 407803.7661868334, tolerance: 131244.28472329865\n",
      "  positive)\n",
      "C:\\Users\\Tamanna Kawatra\\Anaconda3\\envs\\buan6341_2020\\lib\\site-packages\\sklearn\\linear_model\\_coordinate_descent.py:476: ConvergenceWarning: Objective did not converge. You might want to increase the number of iterations. Duality gap: 395277.487503469, tolerance: 136790.55409947364\n",
      "  positive)\n",
      "C:\\Users\\Tamanna Kawatra\\Anaconda3\\envs\\buan6341_2020\\lib\\site-packages\\sklearn\\linear_model\\_coordinate_descent.py:476: ConvergenceWarning: Objective did not converge. You might want to increase the number of iterations. Duality gap: 16551812.623052478, tolerance: 133591.00960358817\n",
      "  positive)\n",
      "C:\\Users\\Tamanna Kawatra\\Anaconda3\\envs\\buan6341_2020\\lib\\site-packages\\sklearn\\linear_model\\_coordinate_descent.py:476: ConvergenceWarning: Objective did not converge. You might want to increase the number of iterations. Duality gap: 456421.23318976164, tolerance: 141261.06177376342\n",
      "  positive)\n",
      "C:\\Users\\Tamanna Kawatra\\Anaconda3\\envs\\buan6341_2020\\lib\\site-packages\\sklearn\\linear_model\\_coordinate_descent.py:476: ConvergenceWarning: Objective did not converge. You might want to increase the number of iterations. Duality gap: 11604156.8987858, tolerance: 137946.97931575522\n",
      "  positive)\n",
      "C:\\Users\\Tamanna Kawatra\\Anaconda3\\envs\\buan6341_2020\\lib\\site-packages\\sklearn\\linear_model\\_coordinate_descent.py:476: ConvergenceWarning: Objective did not converge. You might want to increase the number of iterations. Duality gap: 192595.74490076303, tolerance: 135678.04163773675\n",
      "  positive)\n",
      "C:\\Users\\Tamanna Kawatra\\Anaconda3\\envs\\buan6341_2020\\lib\\site-packages\\sklearn\\linear_model\\_coordinate_descent.py:476: ConvergenceWarning: Objective did not converge. You might want to increase the number of iterations. Duality gap: 329222.2853284478, tolerance: 133591.00960358817\n",
      "  positive)\n",
      "C:\\Users\\Tamanna Kawatra\\Anaconda3\\envs\\buan6341_2020\\lib\\site-packages\\sklearn\\linear_model\\_coordinate_descent.py:476: ConvergenceWarning: Objective did not converge. You might want to increase the number of iterations. Duality gap: 185683.1772157848, tolerance: 137946.97931575522\n",
      "  positive)\n",
      "C:\\Users\\Tamanna Kawatra\\Anaconda3\\envs\\buan6341_2020\\lib\\site-packages\\sklearn\\linear_model\\_coordinate_descent.py:476: ConvergenceWarning: Objective did not converge. You might want to increase the number of iterations. Duality gap: 1431995.4376038313, tolerance: 151295.50442688624\n",
      "  positive)\n"
     ]
    },
    {
     "name": "stdout",
     "output_type": "stream",
     "text": [
      "Best Mean Cross-validation score: -23.84\n",
      "\n",
      "Lasso parameters:  {'alpha': 0.001}\n",
      "Lasso.coef_: [ 4.12610704e+00  4.83794002e+01 -3.42068021e+00  1.12121094e-02\n",
      " -1.11986126e+01 -1.97533616e+01  5.75111222e+00 -2.16974506e+01\n",
      "  2.55218088e+01  8.12601909e+00  2.83364926e-02 -3.51784542e+00]\n",
      "Lasso.intercept_: 120.82692394065703\n",
      "Lasso Train Performance:  -23.70996891576061\n",
      "[140.05459113 140.05459113 140.05459113 ... 142.65118638 142.65118638\n",
      " 142.65118638]\n"
     ]
    }
   ],
   "source": [
    "\n",
    "from sklearn.linear_model import Lasso\n",
    "lasso = Lasso(max_iter = 1000 ,random_state=0)\n",
    "\n",
    "#define a list of parameters\n",
    "param_lasso = {'alpha':[0.00001,0.001, 0.01, 0.1,0.5,0.7, 1, 10, 100,150,200,300] }\n",
    "\n",
    "grid_lasso = GridSearchCV(lasso, param_lasso, cv=10, scoring = 'neg_root_mean_squared_error', return_train_score = True)\n",
    "grid_lasso.fit(X_train, y_train)\n",
    "\n",
    "# Mean Cross Validation Score\n",
    "print(\"Best Mean Cross-validation score: {:.2f}\".format(grid_lasso.best_score_))\n",
    "print()\n",
    "\n",
    "#find best parameters\n",
    "print('Lasso parameters: ', grid_lasso.best_params_)\n",
    "\n",
    "# print co-eff\n",
    "\n",
    "print(\"Lasso.coef_:\", grid_lasso.best_estimator_.coef_)\n",
    "print(\"Lasso.intercept_:\", grid_lasso.best_estimator_.intercept_)\n",
    "# Check Train performance\n",
    "print(\"Lasso Train Performance: \", grid_lasso.score(X_train,y_train))\n",
    "X_test_preds = grid_lasso.predict(X_test)\n",
    "print(X_test_preds)\n",
    "np.savetxt(\"output2.csv\", X_test_preds, delimiter=\",\")\n"
   ]
  },
  {
   "cell_type": "code",
   "execution_count": 42,
   "metadata": {},
   "outputs": [
    {
     "name": "stdout",
     "output_type": "stream",
     "text": [
      "Best Mean Cross-validation score: -23.79\n",
      "\n",
      "Ridge parameters:  {'alpha': 600}\n",
      "Ridge.coef_: [ 4.14712752e+00  4.82184555e+01 -3.37930102e+00  1.42726776e-02\n",
      " -1.13930502e+01 -1.98980728e+01  5.90386614e+00 -1.80283705e+01\n",
      "  2.18618850e+01  8.14916477e+00  4.84417379e-02 -3.48280233e+00]\n",
      "Ridge.intercept_: 120.82692394065703\n",
      "Ridge Test Performance:  -23.71377982580449\n",
      "[139.99452814 139.99452814 139.99452814 ... 142.61061765 142.61061765\n",
      " 142.61061765]\n"
     ]
    }
   ],
   "source": [
    "from sklearn.linear_model import Ridge\n",
    "from sklearn.metrics import mean_squared_log_error\n",
    "ridge = Ridge()\n",
    "\n",
    "#define a list of parameters\n",
    "param_ridge = {'alpha':[0.001, 0.01, 0.1, 1, 10, 100,115,122,140,150,200 ,300 , 400 , 500 , 600 , 700] }\n",
    "\n",
    "grid_ridge = GridSearchCV(ridge, param_ridge, cv=15, scoring = 'neg_root_mean_squared_error',return_train_score = True)\n",
    "grid_ridge.fit(X_train, y_train)\n",
    "\n",
    "# Mean Cross Validation Score\n",
    "print(\"Best Mean Cross-validation score: {:.2f}\".format(grid_ridge.best_score_))\n",
    "\n",
    "print()\n",
    "\n",
    "#find best parameters\n",
    "print('Ridge parameters: ', grid_ridge.best_params_)\n",
    "\n",
    "# print co-eff\n",
    "\n",
    "print(\"Ridge.coef_:\", grid_ridge.best_estimator_.coef_)\n",
    "print(\"Ridge.intercept_:\", grid_ridge.best_estimator_.intercept_)\n",
    "\n",
    "# Check test data set performance\n",
    "\n",
    "print(\"Ridge Test Performance: \", grid_ridge.score(X_train,y_train))\n",
    "X_test_preds = grid_ridge.predict(X_test)\n",
    "print(X_test_preds)\n",
    "np.savetxt(\"output3.csv\", X_test_preds, delimiter=\",\")\n"
   ]
  },
  {
   "cell_type": "code",
   "execution_count": 201,
   "metadata": {},
   "outputs": [],
   "source": [
    "model_gs = Pipeline([(\"regressor\", LinearRegression())])\n",
    "model_parm_gd = [\n",
    "    { 'regressor': [LinearRegression()]},\n",
    "    \n",
    "    { 'regressor': [Ridge()],\n",
    "      'regressor__alpha':[0.001, 0.01, 0.1, 1, 10, 100,115,122,140,150,200, 300 , 400 , 500] },\n",
    "    \n",
    "    { 'regressor': [Lasso(random_state=0 , max_iter = 1000)],\n",
    "      'regressor__alpha':[0.00001,0.001, 0.01, 0.1,0.5,0.7, 1, 10, 100,150,200,300,400,500,550,600,700,750,800,900]},\n",
    " { 'regressor': [ElasticNet(random_state=0)],\n",
    "      'regressor__alpha':[0.00001,0.001, 0.01, 0.1,0.5,0.7, 1, 10, 100,150,200,300,400,500,550,600,700,750,800,900]}\n",
    "]"
   ]
  },
  {
   "cell_type": "code",
   "execution_count": 202,
   "metadata": {},
   "outputs": [],
   "source": [
    "grid_search_learn = GridSearchCV(model_gs, model_parm_gd ,scoring = 'neg_root_mean_squared_error', cv = 15)"
   ]
  },
  {
   "cell_type": "code",
   "execution_count": 203,
   "metadata": {},
   "outputs": [
    {
     "name": "stderr",
     "output_type": "stream",
     "text": [
      "C:\\Users\\Tamanna Kawatra\\Anaconda3\\envs\\buan6341_2020\\lib\\site-packages\\sklearn\\linear_model\\_coordinate_descent.py:476: ConvergenceWarning: Objective did not converge. You might want to increase the number of iterations. Duality gap: 108764466.10482754, tolerance: 144370.9128861451\n",
      "  positive)\n",
      "C:\\Users\\Tamanna Kawatra\\Anaconda3\\envs\\buan6341_2020\\lib\\site-packages\\sklearn\\linear_model\\_coordinate_descent.py:476: ConvergenceWarning: Objective did not converge. You might want to increase the number of iterations. Duality gap: 129581617.23810074, tolerance: 142462.78565184848\n",
      "  positive)\n",
      "C:\\Users\\Tamanna Kawatra\\Anaconda3\\envs\\buan6341_2020\\lib\\site-packages\\sklearn\\linear_model\\_coordinate_descent.py:476: ConvergenceWarning: Objective did not converge. You might want to increase the number of iterations. Duality gap: 110239024.50037928, tolerance: 144834.41775243694\n",
      "  positive)\n",
      "C:\\Users\\Tamanna Kawatra\\Anaconda3\\envs\\buan6341_2020\\lib\\site-packages\\sklearn\\linear_model\\_coordinate_descent.py:476: ConvergenceWarning: Objective did not converge. You might want to increase the number of iterations. Duality gap: 104951490.04010469, tolerance: 135909.083515923\n",
      "  positive)\n",
      "C:\\Users\\Tamanna Kawatra\\Anaconda3\\envs\\buan6341_2020\\lib\\site-packages\\sklearn\\linear_model\\_coordinate_descent.py:476: ConvergenceWarning: Objective did not converge. You might want to increase the number of iterations. Duality gap: 77987901.22482254, tolerance: 140916.86252463356\n",
      "  positive)\n",
      "C:\\Users\\Tamanna Kawatra\\Anaconda3\\envs\\buan6341_2020\\lib\\site-packages\\sklearn\\linear_model\\_coordinate_descent.py:476: ConvergenceWarning: Objective did not converge. You might want to increase the number of iterations. Duality gap: 105656718.18584138, tolerance: 139160.72050066778\n",
      "  positive)\n",
      "C:\\Users\\Tamanna Kawatra\\Anaconda3\\envs\\buan6341_2020\\lib\\site-packages\\sklearn\\linear_model\\_coordinate_descent.py:476: ConvergenceWarning: Objective did not converge. You might want to increase the number of iterations. Duality gap: 127698930.3524475, tolerance: 138624.8344493181\n",
      "  positive)\n",
      "C:\\Users\\Tamanna Kawatra\\Anaconda3\\envs\\buan6341_2020\\lib\\site-packages\\sklearn\\linear_model\\_coordinate_descent.py:476: ConvergenceWarning: Objective did not converge. You might want to increase the number of iterations. Duality gap: 105374904.05531515, tolerance: 139509.1758995378\n",
      "  positive)\n",
      "C:\\Users\\Tamanna Kawatra\\Anaconda3\\envs\\buan6341_2020\\lib\\site-packages\\sklearn\\linear_model\\_coordinate_descent.py:476: ConvergenceWarning: Objective did not converge. You might want to increase the number of iterations. Duality gap: 105386760.74125251, tolerance: 140080.54158430806\n",
      "  positive)\n",
      "C:\\Users\\Tamanna Kawatra\\Anaconda3\\envs\\buan6341_2020\\lib\\site-packages\\sklearn\\linear_model\\_coordinate_descent.py:476: ConvergenceWarning: Objective did not converge. You might want to increase the number of iterations. Duality gap: 108052575.77682567, tolerance: 140570.4278278288\n",
      "  positive)\n",
      "C:\\Users\\Tamanna Kawatra\\Anaconda3\\envs\\buan6341_2020\\lib\\site-packages\\sklearn\\linear_model\\_coordinate_descent.py:476: ConvergenceWarning: Objective did not converge. You might want to increase the number of iterations. Duality gap: 131549715.95442156, tolerance: 138954.41942221246\n",
      "  positive)\n",
      "C:\\Users\\Tamanna Kawatra\\Anaconda3\\envs\\buan6341_2020\\lib\\site-packages\\sklearn\\linear_model\\_coordinate_descent.py:476: ConvergenceWarning: Objective did not converge. You might want to increase the number of iterations. Duality gap: 107728966.64106372, tolerance: 142146.6959713499\n",
      "  positive)\n",
      "C:\\Users\\Tamanna Kawatra\\Anaconda3\\envs\\buan6341_2020\\lib\\site-packages\\sklearn\\linear_model\\_coordinate_descent.py:476: ConvergenceWarning: Objective did not converge. You might want to increase the number of iterations. Duality gap: 109626042.96151444, tolerance: 144468.4375924182\n",
      "  positive)\n",
      "C:\\Users\\Tamanna Kawatra\\Anaconda3\\envs\\buan6341_2020\\lib\\site-packages\\sklearn\\linear_model\\_coordinate_descent.py:476: ConvergenceWarning: Objective did not converge. You might want to increase the number of iterations. Duality gap: 108396210.7569684, tolerance: 141865.86543207447\n",
      "  positive)\n",
      "C:\\Users\\Tamanna Kawatra\\Anaconda3\\envs\\buan6341_2020\\lib\\site-packages\\sklearn\\linear_model\\_coordinate_descent.py:476: ConvergenceWarning: Objective did not converge. You might want to increase the number of iterations. Duality gap: 133881662.93424624, tolerance: 144187.09827458562\n",
      "  positive)\n",
      "C:\\Users\\Tamanna Kawatra\\Anaconda3\\envs\\buan6341_2020\\lib\\site-packages\\sklearn\\linear_model\\_coordinate_descent.py:476: ConvergenceWarning: Objective did not converge. You might want to increase the number of iterations. Duality gap: 683227.8654681742, tolerance: 144370.9128861451\n",
      "  positive)\n",
      "C:\\Users\\Tamanna Kawatra\\Anaconda3\\envs\\buan6341_2020\\lib\\site-packages\\sklearn\\linear_model\\_coordinate_descent.py:476: ConvergenceWarning: Objective did not converge. You might want to increase the number of iterations. Duality gap: 5090633.078790963, tolerance: 142462.78565184848\n",
      "  positive)\n",
      "C:\\Users\\Tamanna Kawatra\\Anaconda3\\envs\\buan6341_2020\\lib\\site-packages\\sklearn\\linear_model\\_coordinate_descent.py:476: ConvergenceWarning: Objective did not converge. You might want to increase the number of iterations. Duality gap: 681753.3747479916, tolerance: 144834.41775243694\n",
      "  positive)\n",
      "C:\\Users\\Tamanna Kawatra\\Anaconda3\\envs\\buan6341_2020\\lib\\site-packages\\sklearn\\linear_model\\_coordinate_descent.py:476: ConvergenceWarning: Objective did not converge. You might want to increase the number of iterations. Duality gap: 650277.4079606235, tolerance: 135909.083515923\n",
      "  positive)\n",
      "C:\\Users\\Tamanna Kawatra\\Anaconda3\\envs\\buan6341_2020\\lib\\site-packages\\sklearn\\linear_model\\_coordinate_descent.py:476: ConvergenceWarning: Objective did not converge. You might want to increase the number of iterations. Duality gap: 620957.9481127262, tolerance: 139160.72050066778\n",
      "  positive)\n",
      "C:\\Users\\Tamanna Kawatra\\Anaconda3\\envs\\buan6341_2020\\lib\\site-packages\\sklearn\\linear_model\\_coordinate_descent.py:476: ConvergenceWarning: Objective did not converge. You might want to increase the number of iterations. Duality gap: 13257111.967141986, tolerance: 138624.8344493181\n",
      "  positive)\n",
      "C:\\Users\\Tamanna Kawatra\\Anaconda3\\envs\\buan6341_2020\\lib\\site-packages\\sklearn\\linear_model\\_coordinate_descent.py:476: ConvergenceWarning: Objective did not converge. You might want to increase the number of iterations. Duality gap: 626021.0299850106, tolerance: 139509.1758995378\n",
      "  positive)\n",
      "C:\\Users\\Tamanna Kawatra\\Anaconda3\\envs\\buan6341_2020\\lib\\site-packages\\sklearn\\linear_model\\_coordinate_descent.py:476: ConvergenceWarning: Objective did not converge. You might want to increase the number of iterations. Duality gap: 655955.8657416403, tolerance: 140080.54158430806\n",
      "  positive)\n",
      "C:\\Users\\Tamanna Kawatra\\Anaconda3\\envs\\buan6341_2020\\lib\\site-packages\\sklearn\\linear_model\\_coordinate_descent.py:476: ConvergenceWarning: Objective did not converge. You might want to increase the number of iterations. Duality gap: 663081.6835174859, tolerance: 140570.4278278288\n",
      "  positive)\n",
      "C:\\Users\\Tamanna Kawatra\\Anaconda3\\envs\\buan6341_2020\\lib\\site-packages\\sklearn\\linear_model\\_coordinate_descent.py:476: ConvergenceWarning: Objective did not converge. You might want to increase the number of iterations. Duality gap: 21141295.850990117, tolerance: 138954.41942221246\n",
      "  positive)\n",
      "C:\\Users\\Tamanna Kawatra\\Anaconda3\\envs\\buan6341_2020\\lib\\site-packages\\sklearn\\linear_model\\_coordinate_descent.py:476: ConvergenceWarning: Objective did not converge. You might want to increase the number of iterations. Duality gap: 637496.2570953369, tolerance: 142146.6959713499\n",
      "  positive)\n",
      "C:\\Users\\Tamanna Kawatra\\Anaconda3\\envs\\buan6341_2020\\lib\\site-packages\\sklearn\\linear_model\\_coordinate_descent.py:476: ConvergenceWarning: Objective did not converge. You might want to increase the number of iterations. Duality gap: 689015.6668828726, tolerance: 144468.4375924182\n",
      "  positive)\n",
      "C:\\Users\\Tamanna Kawatra\\Anaconda3\\envs\\buan6341_2020\\lib\\site-packages\\sklearn\\linear_model\\_coordinate_descent.py:476: ConvergenceWarning: Objective did not converge. You might want to increase the number of iterations. Duality gap: 687701.3658601642, tolerance: 141865.86543207447\n",
      "  positive)\n"
     ]
    },
    {
     "name": "stderr",
     "output_type": "stream",
     "text": [
      "C:\\Users\\Tamanna Kawatra\\Anaconda3\\envs\\buan6341_2020\\lib\\site-packages\\sklearn\\linear_model\\_coordinate_descent.py:476: ConvergenceWarning: Objective did not converge. You might want to increase the number of iterations. Duality gap: 15146766.01471147, tolerance: 144187.09827458562\n",
      "  positive)\n",
      "C:\\Users\\Tamanna Kawatra\\Anaconda3\\envs\\buan6341_2020\\lib\\site-packages\\sklearn\\linear_model\\_coordinate_descent.py:476: ConvergenceWarning: Objective did not converge. You might want to increase the number of iterations. Duality gap: 275866.1470169723, tolerance: 138624.8344493181\n",
      "  positive)\n",
      "C:\\Users\\Tamanna Kawatra\\Anaconda3\\envs\\buan6341_2020\\lib\\site-packages\\sklearn\\linear_model\\_coordinate_descent.py:476: ConvergenceWarning: Objective did not converge. You might want to increase the number of iterations. Duality gap: 454406.6534487903, tolerance: 138954.41942221246\n",
      "  positive)\n",
      "C:\\Users\\Tamanna Kawatra\\Anaconda3\\envs\\buan6341_2020\\lib\\site-packages\\sklearn\\linear_model\\_coordinate_descent.py:476: ConvergenceWarning: Objective did not converge. You might want to increase the number of iterations. Duality gap: 256471.50949576497, tolerance: 144187.09827458562\n",
      "  positive)\n",
      "C:\\Users\\Tamanna Kawatra\\Anaconda3\\envs\\buan6341_2020\\lib\\site-packages\\sklearn\\linear_model\\_coordinate_descent.py:476: ConvergenceWarning: Objective did not converge. You might want to increase the number of iterations. Duality gap: 122571010.01521508, tolerance: 144370.9128861451\n",
      "  positive)\n",
      "C:\\Users\\Tamanna Kawatra\\Anaconda3\\envs\\buan6341_2020\\lib\\site-packages\\sklearn\\linear_model\\_coordinate_descent.py:476: ConvergenceWarning: Objective did not converge. You might want to increase the number of iterations. Duality gap: 134982830.32697642, tolerance: 142462.78565184848\n",
      "  positive)\n",
      "C:\\Users\\Tamanna Kawatra\\Anaconda3\\envs\\buan6341_2020\\lib\\site-packages\\sklearn\\linear_model\\_coordinate_descent.py:476: ConvergenceWarning: Objective did not converge. You might want to increase the number of iterations. Duality gap: 124362150.33566664, tolerance: 144834.41775243694\n",
      "  positive)\n",
      "C:\\Users\\Tamanna Kawatra\\Anaconda3\\envs\\buan6341_2020\\lib\\site-packages\\sklearn\\linear_model\\_coordinate_descent.py:476: ConvergenceWarning: Objective did not converge. You might want to increase the number of iterations. Duality gap: 118383335.3424696, tolerance: 135909.083515923\n",
      "  positive)\n",
      "C:\\Users\\Tamanna Kawatra\\Anaconda3\\envs\\buan6341_2020\\lib\\site-packages\\sklearn\\linear_model\\_coordinate_descent.py:476: ConvergenceWarning: Objective did not converge. You might want to increase the number of iterations. Duality gap: 101340359.96857247, tolerance: 140916.86252463356\n",
      "  positive)\n",
      "C:\\Users\\Tamanna Kawatra\\Anaconda3\\envs\\buan6341_2020\\lib\\site-packages\\sklearn\\linear_model\\_coordinate_descent.py:476: ConvergenceWarning: Objective did not converge. You might want to increase the number of iterations. Duality gap: 119609826.11605337, tolerance: 139160.72050066778\n",
      "  positive)\n",
      "C:\\Users\\Tamanna Kawatra\\Anaconda3\\envs\\buan6341_2020\\lib\\site-packages\\sklearn\\linear_model\\_coordinate_descent.py:476: ConvergenceWarning: Objective did not converge. You might want to increase the number of iterations. Duality gap: 130431574.40454355, tolerance: 138624.8344493181\n",
      "  positive)\n",
      "C:\\Users\\Tamanna Kawatra\\Anaconda3\\envs\\buan6341_2020\\lib\\site-packages\\sklearn\\linear_model\\_coordinate_descent.py:476: ConvergenceWarning: Objective did not converge. You might want to increase the number of iterations. Duality gap: 119205706.5627673, tolerance: 139509.1758995378\n",
      "  positive)\n",
      "C:\\Users\\Tamanna Kawatra\\Anaconda3\\envs\\buan6341_2020\\lib\\site-packages\\sklearn\\linear_model\\_coordinate_descent.py:476: ConvergenceWarning: Objective did not converge. You might want to increase the number of iterations. Duality gap: 118841293.55165577, tolerance: 140080.54158430806\n",
      "  positive)\n",
      "C:\\Users\\Tamanna Kawatra\\Anaconda3\\envs\\buan6341_2020\\lib\\site-packages\\sklearn\\linear_model\\_coordinate_descent.py:476: ConvergenceWarning: Objective did not converge. You might want to increase the number of iterations. Duality gap: 121961804.11560282, tolerance: 140570.4278278288\n",
      "  positive)\n",
      "C:\\Users\\Tamanna Kawatra\\Anaconda3\\envs\\buan6341_2020\\lib\\site-packages\\sklearn\\linear_model\\_coordinate_descent.py:476: ConvergenceWarning: Objective did not converge. You might want to increase the number of iterations. Duality gap: 133523759.85078585, tolerance: 138954.41942221246\n",
      "  positive)\n",
      "C:\\Users\\Tamanna Kawatra\\Anaconda3\\envs\\buan6341_2020\\lib\\site-packages\\sklearn\\linear_model\\_coordinate_descent.py:476: ConvergenceWarning: Objective did not converge. You might want to increase the number of iterations. Duality gap: 121898696.8869561, tolerance: 142146.6959713499\n",
      "  positive)\n",
      "C:\\Users\\Tamanna Kawatra\\Anaconda3\\envs\\buan6341_2020\\lib\\site-packages\\sklearn\\linear_model\\_coordinate_descent.py:476: ConvergenceWarning: Objective did not converge. You might want to increase the number of iterations. Duality gap: 123537538.58872852, tolerance: 144468.4375924182\n",
      "  positive)\n",
      "C:\\Users\\Tamanna Kawatra\\Anaconda3\\envs\\buan6341_2020\\lib\\site-packages\\sklearn\\linear_model\\_coordinate_descent.py:476: ConvergenceWarning: Objective did not converge. You might want to increase the number of iterations. Duality gap: 122076283.81452522, tolerance: 141865.86543207447\n",
      "  positive)\n",
      "C:\\Users\\Tamanna Kawatra\\Anaconda3\\envs\\buan6341_2020\\lib\\site-packages\\sklearn\\linear_model\\_coordinate_descent.py:476: ConvergenceWarning: Objective did not converge. You might want to increase the number of iterations. Duality gap: 136530091.1323679, tolerance: 144187.09827458562\n",
      "  positive)\n",
      "C:\\Users\\Tamanna Kawatra\\Anaconda3\\envs\\buan6341_2020\\lib\\site-packages\\sklearn\\linear_model\\_coordinate_descent.py:476: ConvergenceWarning: Objective did not converge. You might want to increase the number of iterations. Duality gap: 395463.6218675375, tolerance: 144370.9128861451\n",
      "  positive)\n",
      "C:\\Users\\Tamanna Kawatra\\Anaconda3\\envs\\buan6341_2020\\lib\\site-packages\\sklearn\\linear_model\\_coordinate_descent.py:476: ConvergenceWarning: Objective did not converge. You might want to increase the number of iterations. Duality gap: 3168829.531614095, tolerance: 142462.78565184848\n",
      "  positive)\n",
      "C:\\Users\\Tamanna Kawatra\\Anaconda3\\envs\\buan6341_2020\\lib\\site-packages\\sklearn\\linear_model\\_coordinate_descent.py:476: ConvergenceWarning: Objective did not converge. You might want to increase the number of iterations. Duality gap: 394427.0525063276, tolerance: 144834.41775243694\n",
      "  positive)\n",
      "C:\\Users\\Tamanna Kawatra\\Anaconda3\\envs\\buan6341_2020\\lib\\site-packages\\sklearn\\linear_model\\_coordinate_descent.py:476: ConvergenceWarning: Objective did not converge. You might want to increase the number of iterations. Duality gap: 375369.6634617746, tolerance: 135909.083515923\n",
      "  positive)\n",
      "C:\\Users\\Tamanna Kawatra\\Anaconda3\\envs\\buan6341_2020\\lib\\site-packages\\sklearn\\linear_model\\_coordinate_descent.py:476: ConvergenceWarning: Objective did not converge. You might want to increase the number of iterations. Duality gap: 356976.0807299018, tolerance: 139160.72050066778\n",
      "  positive)\n",
      "C:\\Users\\Tamanna Kawatra\\Anaconda3\\envs\\buan6341_2020\\lib\\site-packages\\sklearn\\linear_model\\_coordinate_descent.py:476: ConvergenceWarning: Objective did not converge. You might want to increase the number of iterations. Duality gap: 8657791.973837823, tolerance: 138624.8344493181\n",
      "  positive)\n",
      "C:\\Users\\Tamanna Kawatra\\Anaconda3\\envs\\buan6341_2020\\lib\\site-packages\\sklearn\\linear_model\\_coordinate_descent.py:476: ConvergenceWarning: Objective did not converge. You might want to increase the number of iterations. Duality gap: 359020.597992152, tolerance: 139509.1758995378\n",
      "  positive)\n",
      "C:\\Users\\Tamanna Kawatra\\Anaconda3\\envs\\buan6341_2020\\lib\\site-packages\\sklearn\\linear_model\\_coordinate_descent.py:476: ConvergenceWarning: Objective did not converge. You might want to increase the number of iterations. Duality gap: 379503.86144936085, tolerance: 140080.54158430806\n",
      "  positive)\n",
      "C:\\Users\\Tamanna Kawatra\\Anaconda3\\envs\\buan6341_2020\\lib\\site-packages\\sklearn\\linear_model\\_coordinate_descent.py:476: ConvergenceWarning: Objective did not converge. You might want to increase the number of iterations. Duality gap: 381713.5035651326, tolerance: 140570.4278278288\n",
      "  positive)\n"
     ]
    },
    {
     "name": "stderr",
     "output_type": "stream",
     "text": [
      "C:\\Users\\Tamanna Kawatra\\Anaconda3\\envs\\buan6341_2020\\lib\\site-packages\\sklearn\\linear_model\\_coordinate_descent.py:476: ConvergenceWarning: Objective did not converge. You might want to increase the number of iterations. Duality gap: 14633519.036350667, tolerance: 138954.41942221246\n",
      "  positive)\n",
      "C:\\Users\\Tamanna Kawatra\\Anaconda3\\envs\\buan6341_2020\\lib\\site-packages\\sklearn\\linear_model\\_coordinate_descent.py:476: ConvergenceWarning: Objective did not converge. You might want to increase the number of iterations. Duality gap: 366181.44845080376, tolerance: 142146.6959713499\n",
      "  positive)\n",
      "C:\\Users\\Tamanna Kawatra\\Anaconda3\\envs\\buan6341_2020\\lib\\site-packages\\sklearn\\linear_model\\_coordinate_descent.py:476: ConvergenceWarning: Objective did not converge. You might want to increase the number of iterations. Duality gap: 399329.6416298747, tolerance: 144468.4375924182\n",
      "  positive)\n",
      "C:\\Users\\Tamanna Kawatra\\Anaconda3\\envs\\buan6341_2020\\lib\\site-packages\\sklearn\\linear_model\\_coordinate_descent.py:476: ConvergenceWarning: Objective did not converge. You might want to increase the number of iterations. Duality gap: 396459.2609067559, tolerance: 141865.86543207447\n",
      "  positive)\n",
      "C:\\Users\\Tamanna Kawatra\\Anaconda3\\envs\\buan6341_2020\\lib\\site-packages\\sklearn\\linear_model\\_coordinate_descent.py:476: ConvergenceWarning: Objective did not converge. You might want to increase the number of iterations. Duality gap: 10209952.373013973, tolerance: 144187.09827458562\n",
      "  positive)\n"
     ]
    },
    {
     "data": {
      "text/plain": [
       "GridSearchCV(cv=15, error_score=nan,\n",
       "             estimator=Pipeline(memory=None,\n",
       "                                steps=[('regressor',\n",
       "                                        LinearRegression(copy_X=True,\n",
       "                                                         fit_intercept=True,\n",
       "                                                         n_jobs=None,\n",
       "                                                         normalize=False))],\n",
       "                                verbose=False),\n",
       "             iid='deprecated', n_jobs=None,\n",
       "             param_grid=[{'regressor': [LinearRegression(copy_X=True,\n",
       "                                                         fit_intercept=True,\n",
       "                                                         n_jobs=None,\n",
       "                                                         normalize=False)]},\n",
       "                         {'regressor': [Ridge(alpha=500, copy_X...\n",
       "                                                   l1_ratio=0.5, max_iter=1000,\n",
       "                                                   normalize=False,\n",
       "                                                   positive=False,\n",
       "                                                   precompute=False,\n",
       "                                                   random_state=0,\n",
       "                                                   selection='cyclic',\n",
       "                                                   tol=0.0001,\n",
       "                                                   warm_start=False)],\n",
       "                          'regressor__alpha': [1e-05, 0.001, 0.01, 0.1, 0.5,\n",
       "                                               0.7, 1, 10, 100, 150, 200, 300,\n",
       "                                               400, 500, 550, 600, 700, 750,\n",
       "                                               800, 900]}],\n",
       "             pre_dispatch='2*n_jobs', refit=True, return_train_score=False,\n",
       "             scoring='neg_root_mean_squared_error', verbose=0)"
      ]
     },
     "execution_count": 203,
     "metadata": {},
     "output_type": "execute_result"
    }
   ],
   "source": [
    "grid_search_learn.fit(X_train,y_train)"
   ]
  },
  {
   "cell_type": "code",
   "execution_count": 204,
   "metadata": {},
   "outputs": [
    {
     "name": "stdout",
     "output_type": "stream",
     "text": [
      "{'regressor': Ridge(alpha=500, copy_X=True, fit_intercept=True, max_iter=None,\n",
      "      normalize=False, random_state=None, solver='auto', tol=0.001), 'regressor__alpha': 500}\n"
     ]
    }
   ],
   "source": [
    "print(grid_search_learn.best_params_)"
   ]
  },
  {
   "cell_type": "code",
   "execution_count": 205,
   "metadata": {},
   "outputs": [],
   "source": [
    "# let's get the predictions\n",
    "X_train_preds = grid_search_learn.predict(X_train)\n",
    "X_test_preds = grid_search_learn.predict(X_test)"
   ]
  },
  {
   "cell_type": "code",
   "execution_count": 206,
   "metadata": {},
   "outputs": [
    {
     "name": "stdout",
     "output_type": "stream",
     "text": [
      "Best Mean Cross-validation score: -24.12\n"
     ]
    }
   ],
   "source": [
    "print(\"Best Mean Cross-validation score: {:.2f}\".format(grid_search_learn.best_score_))"
   ]
  },
  {
   "cell_type": "code",
   "execution_count": 207,
   "metadata": {},
   "outputs": [
    {
     "name": "stdout",
     "output_type": "stream",
     "text": [
      "train mse: 577.9125002427891\n",
      "train rmse: 24.03981073641781\n",
      "train r2: 0.8043950614178073\n",
      "\n"
     ]
    }
   ],
   "source": [
    "# check model performance:\n",
    "from sklearn.metrics import mean_squared_error\n",
    "from sklearn.metrics import r2_score\n",
    "\n",
    "print('train mse: {}'.format(mean_squared_error(y_train, X_train_preds)))\n",
    "print('train rmse: {}'.format(sqrt(mean_squared_error(y_train, X_train_preds))))\n",
    "print('train r2: {}'.format(r2_score(y_train, X_train_preds)))\n",
    "print()\n",
    "#print('test mse: {}'.format(mean_squared_error(y_test, X_test_preds)))\n",
    "#print('test rmse: {}'.format(sqrt(mean_squared_error(y_test, X_test_preds))))\n",
    "#print('test r2: {}'.format(r2_score(y_test, X_test_preds)))"
   ]
  },
  {
   "cell_type": "code",
   "execution_count": 208,
   "metadata": {},
   "outputs": [],
   "source": [
    "np.savetxt(\"output4.csv\", X_test_preds, delimiter=\",\")"
   ]
  },
  {
   "cell_type": "code",
   "execution_count": null,
   "metadata": {},
   "outputs": [],
   "source": [
    "param_grid = param_grid = [\n",
    "  {'kernel': [('linear')],'C': [0.01,1,1, 10, 100], 'epsilon':[0.1,0.2,0.5,0.3]},\n",
    "  {'kernel': [('poly')],'degree': [2,3,4,5], 'C': [0.01,1,1, 10, 100], 'gamma': [0,1,0.1,0.01,0.001] ,'epsilon':[0.1,0.2,0.5,0.3] }, \n",
    "    {'kernel': [('rbf'), ('sigmoid')], 'C': [0.01,1,1, 10, 100], 'gamma': [0,1,0.1,0.01,0.001] ,'epsilon':[0.1,0.2,0.5,0.3]}]\n",
    "    \n",
    "svr = SVR()\n",
    "clf = GridSearchCV(svr, param_grid, cv = 15)\n",
    "clf.fit(X_train,y_train)\n",
    "print(clf.best_params_)\n",
    "X_train_preds = clf.predict(X_train)\n",
    "X_test_preds = clf.predict(X_test)\n",
    "np.savetxt(\"output1.csv\", X_test_preds, delimiter=\",\")\n",
    "print(\"Best Mean Cross-validation score: {:.2f}\".format(clf.best_score_))\n",
    "#print(\"SVR Test Performance: \", clf.score(X_test,y_test))\n",
    "print('train mse: {}'.format(mean_squared_error(y_train, X_train_preds)))\n",
    "print('train rmse: {}'.format(sqrt(mean_squared_error(Y, X_train_preds))))\n",
    "print('train r2: {}'.format(r2_score(Y, X_train_preds)))\n",
    "#print()\n",
    "#print('test mse: {}'.format(mean_squared_error(y_test, X_test_preds)))\n",
    "#print('test rmse: {}'.format(sqrt(mean_squared_error(y_test, X_test_preds))))\n",
    "#print('test r2: {}'.format(r2_score(y_test, X_test_preds)))"
   ]
  },
  {
   "cell_type": "code",
   "execution_count": null,
   "metadata": {},
   "outputs": [],
   "source": [
    "from sklearn.model_selection import GridSearchCV\n",
    "from sklearn.neighbors import KNeighborsRegressor\n",
    "pipe_knn=Pipeline([ \n",
    "    ('knnreg', KNeighborsRegressor())])\n",
    "# define a list of parameters\n",
    "#param_knn = {'n_neighbors': [5, 10, 15, 20, 25, 30]}\n",
    "param_knn = {'knnreg__n_neighbors': range(1,25)}\n",
    "\n",
    "#apply grid search\n",
    "grid_knn = GridSearchCV(pipe_knn, param_knn, cv=5, return_train_score=True)\n",
    "grid_knn.fit(X_train, y_train)\n",
    "\n",
    "print('train score: ', grid_knn.score(X_train, y_train))\n",
    "#print('test score: ', grid_knn.score(X_test, y_test))\n",
    "X_test_preds = grid_knn.predict(X_test)\n",
    "np.savetxt(\"output1.csv\", X_test_preds, delimiter=\",\")\n",
    "#find best parameters\n",
    "print('Best parameters: ', grid_knn.best_params_)\n",
    "print('Best cross-validation score:', grid_knn.best_score_)"
   ]
  },
  {
   "cell_type": "code",
   "execution_count": 51,
   "metadata": {},
   "outputs": [
    {
     "name": "stdout",
     "output_type": "stream",
     "text": [
      "R-Squared on train dataset=-0.09631801809834543\n",
      "[118.22324802 118.22324802 118.22324802 ... 118.22324802 118.22324802\n",
      " 118.22324802]\n"
     ]
    }
   ],
   "source": [
    "from sklearn.tree import DecisionTreeRegressor\n",
    "from sklearn.metrics import mean_squared_log_error\n",
    "\n",
    "\n",
    "\n",
    "\n",
    "dtm = DecisionTreeRegressor()\n",
    "\n",
    "param_grid = {\"max_depth\": range(1,10),\n",
    "           \"min_samples_split\": range(2,10,1),\n",
    "           \"max_leaf_nodes\": range(2,5)}\n",
    "              \n",
    "\n",
    "\n",
    "\n",
    "grid_cv_dtm = GridSearchCV(dtm, param_grid, scoring = 'neg_mean_squared_log_error' , cv=5)\n",
    "\n",
    "grid_cv_dtm.fit(X_train,y_train)\n",
    "\n",
    "\n",
    "print(\"R-Squared on train dataset={}\".format(grid_cv_dtm.score(X_train,y_train)))\n",
    "X_test_preds = grid_cv_dtm.predict(X_test)\n",
    "print(X_test_preds)\n",
    "np.savetxt(\"output1.csv\", X_test_preds, delimiter=\",\")\n",
    "\n",
    "#print(\"R-Squaredon test dataset={}\".format(grid_cv_dtm.score(X_test,y_test)))"
   ]
  },
  {
   "cell_type": "code",
   "execution_count": 25,
   "metadata": {},
   "outputs": [],
   "source": [
    "# Import the model we are using\n",
    "from sklearn.ensemble import RandomForestRegressor\n",
    "# Instantiate model with 1000 decision trees\n",
    "rf = RandomForestRegressor(n_estimators = 1000, random_state = 42)\n",
    "# Train the model on training data\n",
    "rf.fit(X_train,y_train);"
   ]
  },
  {
   "cell_type": "code",
   "execution_count": 26,
   "metadata": {},
   "outputs": [],
   "source": [
    "# Use the forest's predict method on the test data\n",
    "predictions = rf.predict(X_test)"
   ]
  },
  {
   "cell_type": "code",
   "execution_count": 27,
   "metadata": {},
   "outputs": [],
   "source": [
    "np.savetxt(\"output5.csv\",predictions , delimiter=\",\")"
   ]
  },
  {
   "cell_type": "code",
   "execution_count": 28,
   "metadata": {},
   "outputs": [
    {
     "name": "stdout",
     "output_type": "stream",
     "text": [
      "Variable: Course_Domain        Importance: 0.84\n",
      "Variable: Long_Promotion       Importance: 0.05\n",
      "Variable: Day_No               Importance: 0.02\n",
      "Variable: Course_Type          Importance: 0.01\n",
      "Variable: Competition_Metric   Importance: 0.01\n",
      "Variable: Short_Promotion      Importance: 0.0\n",
      "Variable: Public_Holiday       Importance: 0.0\n",
      "Variable: User_Traffic         Importance: 0.0\n",
      "[0.02483104424973705, 0.8434455371912346, 0.008136137288396851, 0.00019280097743526814, 0.0038339373195529435, 0.05042538725060769, 0.0023610300630080047, 0.0062300232795420435, 0.009795770837075038, 0.03794652173557998, 0.0021402060223227617, 0.01066160378550766]\n"
     ]
    }
   ],
   "source": [
    "# Get numerical feature importances\n",
    "importances = list(rf.feature_importances_)\n",
    "# List of tuples with variable and importance\n",
    "feature_importances = [(feature, round(importance, 2)) for feature, importance in zip(feature_list, importances)]\n",
    "# Sort the feature importances by most important first\n",
    "feature_importances = sorted(feature_importances, key = lambda x: x[1], reverse = True)\n",
    "# Print out the feature and importances \n",
    "[print('Variable: {:20} Importance: {}'.format(*pair)) for pair in feature_importances];\n",
    "\n",
    "print(importances)"
   ]
  },
  {
   "cell_type": "code",
   "execution_count": 29,
   "metadata": {},
   "outputs": [],
   "source": [
    "\n",
    "rf_most_important = RandomForestRegressor(n_estimators= 1000, random_state=42)\n",
    "# Extract the two most important features\n",
    "important_indices = [feature_list.index('Course_Domain'), feature_list.index('Long_Promotion')]\n",
    "train_important = X_train[:, important_indices]\n",
    "test_important = X_test[:, important_indices]\n",
    "# Train the random forest\n",
    "rf_most_important.fit(train_important, y_train)\n",
    "# Make predictions and determine the error\n",
    "predictions = rf_most_important.predict(test_important)"
   ]
  },
  {
   "cell_type": "code",
   "execution_count": 244,
   "metadata": {},
   "outputs": [],
   "source": [
    "np.savetxt(\"output6.csv\",predictions , delimiter=\",\")"
   ]
  },
  {
   "cell_type": "code",
   "execution_count": 30,
   "metadata": {},
   "outputs": [],
   "source": [
    "import numpy as np\n",
    "import matplotlib.pyplot as plt\n",
    "\n",
    "from sklearn import ensemble\n",
    "from sklearn import datasets\n",
    "from sklearn.utils import shuffle\n",
    "from sklearn.metrics import mean_squared_error"
   ]
  },
  {
   "cell_type": "code",
   "execution_count": 31,
   "metadata": {},
   "outputs": [],
   "source": [
    "\n",
    "params = {'n_estimators': 500, 'max_depth': 4, 'min_samples_split': 2,\n",
    "          'learning_rate': 0.01, 'loss': 'ls'}\n",
    "clf = ensemble.GradientBoostingRegressor(**params)\n",
    "\n",
    "clf.fit(X_train, y_train)\n",
    "boosting = clf.predict(X_test)\n",
    "np.savetxt(\"output7.csv\",boosting, delimiter=\",\")\n",
    "#mse = mean_squared_error(y_test, clf.predict(X_test))\n",
    "#print(\"MSE: %.4f\" % mse)\n"
   ]
  },
  {
   "cell_type": "code",
   "execution_count": null,
   "metadata": {},
   "outputs": [],
   "source": []
  }
 ],
 "metadata": {
  "kernelspec": {
   "display_name": "Python 3.7(buan6341_2020)",
   "language": "python",
   "name": "buan6341_2020"
  },
  "language_info": {
   "codemirror_mode": {
    "name": "ipython",
    "version": 3
   },
   "file_extension": ".py",
   "mimetype": "text/x-python",
   "name": "python",
   "nbconvert_exporter": "python",
   "pygments_lexer": "ipython3",
   "version": "3.7.6"
  },
  "toc": {
   "base_numbering": 1,
   "nav_menu": {},
   "number_sections": true,
   "sideBar": true,
   "skip_h1_title": false,
   "title_cell": "Table of Contents",
   "title_sidebar": "Contents",
   "toc_cell": true,
   "toc_position": {},
   "toc_section_display": true,
   "toc_window_display": false
  }
 },
 "nbformat": 4,
 "nbformat_minor": 2
}
